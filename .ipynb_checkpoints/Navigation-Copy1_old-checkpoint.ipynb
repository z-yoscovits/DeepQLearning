{
 "cells": [
  {
   "cell_type": "markdown",
   "metadata": {},
   "source": [
    "# Navigation\n",
    "\n",
    "---\n",
    "\n",
    "You are welcome to use this coding environment to train your agent for the project.  Follow the instructions below to get started!\n",
    "\n",
    "### 1. Start the Environment\n",
    "\n",
    "Run the next code cell to install a few packages.  This line will take a few minutes to run!"
   ]
  },
  {
   "cell_type": "code",
   "execution_count": 3,
   "metadata": {},
   "outputs": [
    {
     "name": "stderr",
     "output_type": "stream",
     "text": [
      "  DEPRECATION: A future pip version will change local packages to be built in-place without first copying to a temporary directory. We recommend you use --use-feature=in-tree-build to test your packages with this new behavior before it becomes the default.\n",
      "   pip 21.3 will remove support for this functionality. You can find discussion regarding this at https://github.com/pypa/pip/issues/7555.\n",
      "ERROR: Could not find a version that satisfies the requirement torch==0.4.0 (from unityagents) (from versions: 1.7.0, 1.7.1, 1.8.0, 1.8.1, 1.9.0, 1.9.1, 1.10.0, 1.10.1, 1.10.2)\n",
      "ERROR: No matching distribution found for torch==0.4.0\n"
     ]
    }
   ],
   "source": [
    "!pip -q install ./python"
   ]
  },
  {
   "cell_type": "code",
   "execution_count": 4,
   "metadata": {},
   "outputs": [
    {
     "name": "stdout",
     "output_type": "stream",
     "text": [
      "Collecting unityagents\n",
      "  Downloading unityagents-0.4.0-py3-none-any.whl (72 kB)\n",
      "Collecting tensorflow==1.7.1\n",
      "  Using cached tensorflow-1.7.1-cp36-cp36m-win_amd64.whl (33.1 MB)\n",
      "Collecting docopt\n",
      "  Using cached docopt-0.6.2.tar.gz (25 kB)\n",
      "Collecting numpy>=1.11.0\n",
      "  Using cached numpy-1.19.5-cp36-cp36m-win_amd64.whl (13.2 MB)\n",
      "Collecting pyyaml\n",
      "  Using cached PyYAML-6.0-cp36-cp36m-win_amd64.whl (153 kB)\n",
      "Collecting grpcio==1.11.0\n",
      "  Using cached grpcio-1.11.0-cp36-cp36m-win_amd64.whl (1.4 MB)\n",
      "Collecting Pillow>=4.2.1\n",
      "  Using cached Pillow-8.4.0-cp36-cp36m-win_amd64.whl (3.2 MB)\n",
      "Collecting jupyter\n",
      "  Using cached jupyter-1.0.0-py2.py3-none-any.whl (2.7 kB)\n",
      "Collecting protobuf==3.5.2\n",
      "  Using cached protobuf-3.5.2-cp36-cp36m-win_amd64.whl (958 kB)\n",
      "Collecting pytest>=3.2.2\n",
      "  Using cached pytest-7.0.1-py3-none-any.whl (296 kB)\n",
      "Collecting matplotlib\n",
      "  Using cached matplotlib-3.3.4-cp36-cp36m-win_amd64.whl (8.5 MB)\n",
      "Requirement already satisfied: six>=1.5.2 in c:\\users\\orion\\anaconda3\\envs\\naviagation\\lib\\site-packages (from grpcio==1.11.0->unityagents) (1.16.0)\n",
      "Requirement already satisfied: setuptools in c:\\users\\orion\\anaconda3\\envs\\naviagation\\lib\\site-packages (from protobuf==3.5.2->unityagents) (58.0.4)\n",
      "Requirement already satisfied: wheel>=0.26 in c:\\users\\orion\\anaconda3\\envs\\naviagation\\lib\\site-packages (from tensorflow==1.7.1->unityagents) (0.37.1)\n",
      "Collecting absl-py>=0.1.6\n",
      "  Downloading absl_py-1.2.0-py3-none-any.whl (123 kB)\n",
      "Collecting tensorboard<1.8.0,>=1.7.0\n",
      "  Downloading tensorboard-1.7.0-py3-none-any.whl (3.1 MB)\n",
      "Collecting termcolor>=1.1.0\n",
      "  Using cached termcolor-1.1.0.tar.gz (3.9 kB)\n",
      "Collecting gast>=0.2.0\n",
      "  Downloading gast-0.5.3-py3-none-any.whl (19 kB)\n",
      "Collecting astor>=0.6.0\n",
      "  Using cached astor-0.8.1-py2.py3-none-any.whl (27 kB)\n",
      "Requirement already satisfied: importlib-metadata>=0.12 in c:\\users\\orion\\anaconda3\\envs\\naviagation\\lib\\site-packages (from pytest>=3.2.2->unityagents) (4.8.3)\n",
      "Requirement already satisfied: attrs>=19.2.0 in c:\\users\\orion\\anaconda3\\envs\\naviagation\\lib\\site-packages (from pytest>=3.2.2->unityagents) (22.1.0)\n",
      "Requirement already satisfied: packaging in c:\\users\\orion\\anaconda3\\envs\\naviagation\\lib\\site-packages (from pytest>=3.2.2->unityagents) (21.3)\n",
      "Collecting iniconfig\n",
      "  Downloading iniconfig-1.1.1-py2.py3-none-any.whl (5.0 kB)\n",
      "Collecting tomli>=1.0.0\n",
      "  Using cached tomli-1.2.3-py3-none-any.whl (12 kB)\n",
      "Collecting py>=1.8.2\n",
      "  Downloading py-1.11.0-py2.py3-none-any.whl (98 kB)\n",
      "Requirement already satisfied: colorama in c:\\users\\orion\\anaconda3\\envs\\naviagation\\lib\\site-packages (from pytest>=3.2.2->unityagents) (0.4.5)\n",
      "Collecting atomicwrites>=1.0\n",
      "  Downloading atomicwrites-1.4.1.tar.gz (14 kB)\n",
      "Collecting pluggy<2.0,>=0.12\n",
      "  Downloading pluggy-1.0.0-py2.py3-none-any.whl (13 kB)\n",
      "Requirement already satisfied: zipp>=0.5 in c:\\users\\orion\\anaconda3\\envs\\naviagation\\lib\\site-packages (from importlib-metadata>=0.12->pytest>=3.2.2->unityagents) (3.6.0)\n",
      "Requirement already satisfied: typing-extensions>=3.6.4 in c:\\users\\orion\\anaconda3\\envs\\naviagation\\lib\\site-packages (from importlib-metadata>=0.12->pytest>=3.2.2->unityagents) (4.1.1)\n",
      "Collecting werkzeug>=0.11.10\n",
      "  Downloading Werkzeug-2.0.3-py3-none-any.whl (289 kB)\n",
      "Collecting markdown>=2.6.8\n",
      "  Downloading Markdown-3.3.7-py3-none-any.whl (97 kB)\n",
      "Collecting bleach==1.5.0\n",
      "  Downloading bleach-1.5.0-py2.py3-none-any.whl (17 kB)\n",
      "Collecting html5lib==0.9999999\n",
      "  Downloading html5lib-0.9999999.tar.gz (889 kB)\n",
      "Requirement already satisfied: dataclasses in c:\\users\\orion\\anaconda3\\envs\\naviagation\\lib\\site-packages (from werkzeug>=0.11.10->tensorboard<1.8.0,>=1.7.0->tensorflow==1.7.1->unityagents) (0.8)\n",
      "Requirement already satisfied: notebook in c:\\users\\orion\\anaconda3\\envs\\naviagation\\lib\\site-packages (from jupyter->unityagents) (6.4.10)\n",
      "Collecting qtconsole\n",
      "  Downloading qtconsole-5.2.2-py3-none-any.whl (120 kB)\n",
      "Requirement already satisfied: nbconvert in c:\\users\\orion\\anaconda3\\envs\\naviagation\\lib\\site-packages (from jupyter->unityagents) (6.0.7)\n",
      "Requirement already satisfied: ipykernel in c:\\users\\orion\\anaconda3\\envs\\naviagation\\lib\\site-packages (from jupyter->unityagents) (5.5.6)\n",
      "Collecting ipywidgets\n",
      "  Downloading ipywidgets-7.7.2-py2.py3-none-any.whl (123 kB)\n",
      "Collecting jupyter-console\n",
      "  Downloading jupyter_console-6.4.3-py3-none-any.whl (22 kB)\n",
      "Requirement already satisfied: ipython-genutils in c:\\users\\orion\\anaconda3\\envs\\naviagation\\lib\\site-packages (from ipykernel->jupyter->unityagents) (0.2.0)\n",
      "Requirement already satisfied: jupyter-client in c:\\users\\orion\\anaconda3\\envs\\naviagation\\lib\\site-packages (from ipykernel->jupyter->unityagents) (7.1.2)\n",
      "Requirement already satisfied: traitlets>=4.1.0 in c:\\users\\orion\\anaconda3\\envs\\naviagation\\lib\\site-packages (from ipykernel->jupyter->unityagents) (4.3.3)\n",
      "Requirement already satisfied: ipython>=5.0.0 in c:\\users\\orion\\anaconda3\\envs\\naviagation\\lib\\site-packages (from ipykernel->jupyter->unityagents) (7.16.3)\n",
      "Requirement already satisfied: tornado>=4.2 in c:\\users\\orion\\anaconda3\\envs\\naviagation\\lib\\site-packages (from ipykernel->jupyter->unityagents) (6.1)\n",
      "Requirement already satisfied: jedi<=0.17.2,>=0.10 in c:\\users\\orion\\anaconda3\\envs\\naviagation\\lib\\site-packages (from ipython>=5.0.0->ipykernel->jupyter->unityagents) (0.17.2)\n",
      "Requirement already satisfied: pickleshare in c:\\users\\orion\\anaconda3\\envs\\naviagation\\lib\\site-packages (from ipython>=5.0.0->ipykernel->jupyter->unityagents) (0.7.5)\n",
      "Requirement already satisfied: decorator in c:\\users\\orion\\anaconda3\\envs\\naviagation\\lib\\site-packages (from ipython>=5.0.0->ipykernel->jupyter->unityagents) (5.1.1)\n",
      "Requirement already satisfied: backcall in c:\\users\\orion\\anaconda3\\envs\\naviagation\\lib\\site-packages (from ipython>=5.0.0->ipykernel->jupyter->unityagents) (0.2.0)\n",
      "Requirement already satisfied: prompt-toolkit!=3.0.0,!=3.0.1,<3.1.0,>=2.0.0 in c:\\users\\orion\\anaconda3\\envs\\naviagation\\lib\\site-packages (from ipython>=5.0.0->ipykernel->jupyter->unityagents) (3.0.31)\n",
      "Requirement already satisfied: pygments in c:\\users\\orion\\anaconda3\\envs\\naviagation\\lib\\site-packages (from ipython>=5.0.0->ipykernel->jupyter->unityagents) (2.13.0)\n",
      "Requirement already satisfied: parso<0.8.0,>=0.7.0 in c:\\users\\orion\\anaconda3\\envs\\naviagation\\lib\\site-packages (from jedi<=0.17.2,>=0.10->ipython>=5.0.0->ipykernel->jupyter->unityagents) (0.7.1)\n",
      "Requirement already satisfied: wcwidth in c:\\users\\orion\\anaconda3\\envs\\naviagation\\lib\\site-packages (from prompt-toolkit!=3.0.0,!=3.0.1,<3.1.0,>=2.0.0->ipython>=5.0.0->ipykernel->jupyter->unityagents) (0.2.5)\n",
      "Collecting widgetsnbextension~=3.6.0\n",
      "  Downloading widgetsnbextension-3.6.1-py2.py3-none-any.whl (1.6 MB)\n",
      "Collecting jupyterlab-widgets<3,>=1.0.0\n",
      "  Downloading jupyterlab_widgets-1.1.1-py3-none-any.whl (245 kB)\n",
      "Requirement already satisfied: jinja2 in c:\\users\\orion\\anaconda3\\envs\\naviagation\\lib\\site-packages (from notebook->jupyter->unityagents) (3.0.3)\n",
      "Requirement already satisfied: pyzmq>=17 in c:\\users\\orion\\anaconda3\\envs\\naviagation\\lib\\site-packages (from notebook->jupyter->unityagents) (24.0.1)\n",
      "Requirement already satisfied: prometheus-client in c:\\users\\orion\\anaconda3\\envs\\naviagation\\lib\\site-packages (from notebook->jupyter->unityagents) (0.14.1)\n",
      "Requirement already satisfied: nbformat in c:\\users\\orion\\anaconda3\\envs\\naviagation\\lib\\site-packages (from notebook->jupyter->unityagents) (5.1.3)\n",
      "Requirement already satisfied: terminado>=0.8.3 in c:\\users\\orion\\anaconda3\\envs\\naviagation\\lib\\site-packages (from notebook->jupyter->unityagents) (0.12.1)\n",
      "Requirement already satisfied: argon2-cffi in c:\\users\\orion\\anaconda3\\envs\\naviagation\\lib\\site-packages (from notebook->jupyter->unityagents) (21.3.0)\n",
      "Requirement already satisfied: nest-asyncio>=1.5 in c:\\users\\orion\\anaconda3\\envs\\naviagation\\lib\\site-packages (from notebook->jupyter->unityagents) (1.5.6)\n",
      "Requirement already satisfied: Send2Trash>=1.8.0 in c:\\users\\orion\\anaconda3\\envs\\naviagation\\lib\\site-packages (from notebook->jupyter->unityagents) (1.8.0)\n",
      "Requirement already satisfied: jupyter-core>=4.6.1 in c:\\users\\orion\\anaconda3\\envs\\naviagation\\lib\\site-packages (from notebook->jupyter->unityagents) (4.9.2)\n",
      "Requirement already satisfied: entrypoints in c:\\users\\orion\\anaconda3\\envs\\naviagation\\lib\\site-packages (from jupyter-client->ipykernel->jupyter->unityagents) (0.4)\n",
      "Requirement already satisfied: python-dateutil>=2.1 in c:\\users\\orion\\anaconda3\\envs\\naviagation\\lib\\site-packages (from jupyter-client->ipykernel->jupyter->unityagents) (2.8.2)\n",
      "Requirement already satisfied: pywin32>=1.0 in c:\\users\\orion\\anaconda3\\envs\\naviagation\\lib\\site-packages (from jupyter-core>=4.6.1->notebook->jupyter->unityagents) (304)\n",
      "Requirement already satisfied: pandocfilters>=1.4.1 in c:\\users\\orion\\anaconda3\\envs\\naviagation\\lib\\site-packages (from nbconvert->jupyter->unityagents) (1.5.0)\n",
      "Requirement already satisfied: jupyterlab-pygments in c:\\users\\orion\\anaconda3\\envs\\naviagation\\lib\\site-packages (from nbconvert->jupyter->unityagents) (0.1.2)\n",
      "Requirement already satisfied: nbclient<0.6.0,>=0.5.0 in c:\\users\\orion\\anaconda3\\envs\\naviagation\\lib\\site-packages (from nbconvert->jupyter->unityagents) (0.5.9)\n",
      "Requirement already satisfied: testpath in c:\\users\\orion\\anaconda3\\envs\\naviagation\\lib\\site-packages (from nbconvert->jupyter->unityagents) (0.6.0)\n",
      "Requirement already satisfied: mistune<2,>=0.8.1 in c:\\users\\orion\\anaconda3\\envs\\naviagation\\lib\\site-packages (from nbconvert->jupyter->unityagents) (0.8.4)\n",
      "Requirement already satisfied: defusedxml in c:\\users\\orion\\anaconda3\\envs\\naviagation\\lib\\site-packages (from nbconvert->jupyter->unityagents) (0.7.1)\n",
      "Requirement already satisfied: MarkupSafe>=2.0 in c:\\users\\orion\\anaconda3\\envs\\naviagation\\lib\\site-packages (from jinja2->notebook->jupyter->unityagents) (2.0.1)\n",
      "Requirement already satisfied: async-generator in c:\\users\\orion\\anaconda3\\envs\\naviagation\\lib\\site-packages (from nbclient<0.6.0,>=0.5.0->nbconvert->jupyter->unityagents) (1.10)\n",
      "Requirement already satisfied: jsonschema!=2.5.0,>=2.4 in c:\\users\\orion\\anaconda3\\envs\\naviagation\\lib\\site-packages (from nbformat->notebook->jupyter->unityagents) (3.2.0)\n",
      "Requirement already satisfied: pyrsistent>=0.14.0 in c:\\users\\orion\\anaconda3\\envs\\naviagation\\lib\\site-packages (from jsonschema!=2.5.0,>=2.4->nbformat->notebook->jupyter->unityagents) (0.18.0)\n",
      "Requirement already satisfied: pywinpty>=1.1.0 in c:\\users\\orion\\anaconda3\\envs\\naviagation\\lib\\site-packages (from terminado>=0.8.3->notebook->jupyter->unityagents) (1.1.6)\n",
      "Requirement already satisfied: argon2-cffi-bindings in c:\\users\\orion\\anaconda3\\envs\\naviagation\\lib\\site-packages (from argon2-cffi->notebook->jupyter->unityagents) (21.2.0)\n",
      "Requirement already satisfied: cffi>=1.0.1 in c:\\users\\orion\\anaconda3\\envs\\naviagation\\lib\\site-packages (from argon2-cffi-bindings->argon2-cffi->notebook->jupyter->unityagents) (1.15.1)\n",
      "Requirement already satisfied: pycparser in c:\\users\\orion\\anaconda3\\envs\\naviagation\\lib\\site-packages (from cffi>=1.0.1->argon2-cffi-bindings->argon2-cffi->notebook->jupyter->unityagents) (2.21)\n",
      "Collecting kiwisolver>=1.0.1\n",
      "  Downloading kiwisolver-1.3.1-cp36-cp36m-win_amd64.whl (51 kB)\n",
      "Requirement already satisfied: pyparsing!=2.0.4,!=2.1.2,!=2.1.6,>=2.0.3 in c:\\users\\orion\\anaconda3\\envs\\naviagation\\lib\\site-packages (from matplotlib->unityagents) (3.0.9)\n",
      "Collecting cycler>=0.10\n",
      "  Downloading cycler-0.11.0-py3-none-any.whl (6.4 kB)\n",
      "Collecting qtpy\n",
      "  Downloading QtPy-2.0.1-py3-none-any.whl (65 kB)\n",
      "Building wheels for collected packages: atomicwrites, html5lib, termcolor, docopt\n",
      "  Building wheel for atomicwrites (setup.py): started\n",
      "  Building wheel for atomicwrites (setup.py): finished with status 'done'\n",
      "  Created wheel for atomicwrites: filename=atomicwrites-1.4.1-py2.py3-none-any.whl size=6957 sha256=ce1871506f47f554cc44cf4d5c91dfeae8e9c1c74ac3c23b03126e5777d0cb4f\n",
      "  Stored in directory: c:\\users\\orion\\appdata\\local\\pip\\cache\\wheels\\a1\\e7\\28\\46d397595a418eb7ce1a8e6bbdfcea9e73753249bc824cc9cb\n",
      "  Building wheel for html5lib (setup.py): started\n",
      "  Building wheel for html5lib (setup.py): finished with status 'done'\n",
      "  Created wheel for html5lib: filename=html5lib-0.9999999-py3-none-any.whl size=107234 sha256=60effb7dde5929ee16f49378c83a31a3200b1c288c56d9a8c3ba1d8f536e177d\n",
      "  Stored in directory: c:\\users\\orion\\appdata\\local\\pip\\cache\\wheels\\90\\1c\\cb\\a87fd097ff74648ecc468a703001f6c7c86d8a71d459e65c98\n",
      "  Building wheel for termcolor (setup.py): started\n",
      "  Building wheel for termcolor (setup.py): finished with status 'done'\n",
      "  Created wheel for termcolor: filename=termcolor-1.1.0-py3-none-any.whl size=4848 sha256=ccdb5680587f5da8e4239e0796c24331a0df8c37b85ff4c4ef0f2f3869de4a07\n",
      "  Stored in directory: c:\\users\\orion\\appdata\\local\\pip\\cache\\wheels\\93\\2a\\eb\\e58dbcbc963549ee4f065ff80a59f274cc7210b6eab962acdc\n",
      "  Building wheel for docopt (setup.py): started\n",
      "  Building wheel for docopt (setup.py): finished with status 'done'\n",
      "  Created wheel for docopt: filename=docopt-0.6.2-py2.py3-none-any.whl size=13723 sha256=1d1390206df785c80ad9a54a2793e3b7ec9743c5ece2e327601cacd9b52b9c82\n",
      "  Stored in directory: c:\\users\\orion\\appdata\\local\\pip\\cache\\wheels\\3f\\2a\\fa\\4d7a888e69774d5e6e855d190a8a51b357d77cc05eb1c097c9\n",
      "Successfully built atomicwrites html5lib termcolor docopt\n",
      "Installing collected packages: html5lib, bleach, widgetsnbextension, werkzeug, qtpy, protobuf, numpy, markdown, jupyterlab-widgets, tomli, termcolor, tensorboard, qtconsole, py, pluggy, Pillow, kiwisolver, jupyter-console, ipywidgets, iniconfig, grpcio, gast, cycler, atomicwrites, astor, absl-py, tensorflow, pyyaml, pytest, matplotlib, jupyter, docopt, unityagents\n",
      "  Attempting uninstall: bleach\n",
      "    Found existing installation: bleach 4.1.0\n",
      "    Uninstalling bleach-4.1.0:\n",
      "      Successfully uninstalled bleach-4.1.0\n",
      "Successfully installed Pillow-8.4.0 absl-py-1.2.0 astor-0.8.1 atomicwrites-1.4.1 bleach-1.5.0 cycler-0.11.0 docopt-0.6.2 gast-0.5.3 grpcio-1.11.0 html5lib-0.9999999 iniconfig-1.1.1 ipywidgets-7.7.2 jupyter-1.0.0 jupyter-console-6.4.3 jupyterlab-widgets-1.1.1 kiwisolver-1.3.1 markdown-3.3.7 matplotlib-3.3.4 numpy-1.19.5 pluggy-1.0.0 protobuf-3.5.2 py-1.11.0 pytest-7.0.1 pyyaml-6.0 qtconsole-5.2.2 qtpy-2.0.1 tensorboard-1.7.0 tensorflow-1.7.1 termcolor-1.1.0 tomli-1.2.3 unityagents-0.4.0 werkzeug-2.0.3 widgetsnbextension-3.6.1\n"
     ]
    }
   ],
   "source": [
    "!pip install unityagents"
   ]
  },
  {
   "cell_type": "code",
   "execution_count": 5,
   "metadata": {},
   "outputs": [
    {
     "name": "stdout",
     "output_type": "stream",
     "text": [
      "Collecting mlagents\n",
      "  Downloading mlagents-0.28.0-py3-none-any.whl (164 kB)\n",
      "Collecting tensorboard>=1.15\n",
      "  Downloading tensorboard-2.10.1-py3-none-any.whl (5.9 MB)\n",
      "Requirement already satisfied: attrs>=19.3.0 in c:\\users\\orion\\anaconda3\\envs\\naviagation\\lib\\site-packages (from mlagents) (22.1.0)\n",
      "Collecting mlagents-envs==0.28.0\n",
      "  Downloading mlagents_envs-0.28.0-py3-none-any.whl (77 kB)\n",
      "Requirement already satisfied: Pillow>=4.2.1 in c:\\users\\orion\\anaconda3\\envs\\naviagation\\lib\\site-packages (from mlagents) (8.4.0)\n",
      "Collecting pypiwin32==223\n",
      "  Downloading pypiwin32-223-py3-none-any.whl (1.7 kB)\n",
      "Requirement already satisfied: pyyaml>=3.1.0 in c:\\users\\orion\\anaconda3\\envs\\naviagation\\lib\\site-packages (from mlagents) (6.0)\n",
      "Requirement already satisfied: importlib-metadata in c:\\users\\orion\\anaconda3\\envs\\naviagation\\lib\\site-packages (from mlagents) (4.8.3)\n",
      "Requirement already satisfied: grpcio>=1.11.0 in c:\\users\\orion\\anaconda3\\envs\\naviagation\\lib\\site-packages (from mlagents) (1.11.0)\n",
      "Collecting protobuf>=3.6\n",
      "  Downloading protobuf-3.19.6-cp36-cp36m-win_amd64.whl (897 kB)\n",
      "Collecting h5py>=2.9.0\n",
      "  Downloading h5py-3.1.0-cp36-cp36m-win_amd64.whl (2.7 MB)\n",
      "Requirement already satisfied: numpy<2.0,>=1.13.3 in c:\\users\\orion\\anaconda3\\envs\\naviagation\\lib\\site-packages (from mlagents) (1.19.5)\n",
      "Collecting cattrs<1.1.0\n",
      "  Downloading cattrs-1.0.0-py2.py3-none-any.whl (14 kB)\n",
      "Collecting cloudpickle\n",
      "  Downloading cloudpickle-2.2.0-py3-none-any.whl (25 kB)\n",
      "Requirement already satisfied: pywin32>=223 in c:\\users\\orion\\anaconda3\\envs\\naviagation\\lib\\site-packages (from pypiwin32==223->mlagents) (304)\n",
      "Requirement already satisfied: six>=1.5.2 in c:\\users\\orion\\anaconda3\\envs\\naviagation\\lib\\site-packages (from grpcio>=1.11.0->mlagents) (1.16.0)\n",
      "Collecting cached-property\n",
      "  Using cached cached_property-1.5.2-py2.py3-none-any.whl (7.6 kB)\n",
      "Collecting requests<3,>=2.21.0\n",
      "  Downloading requests-2.27.1-py2.py3-none-any.whl (63 kB)\n",
      "Requirement already satisfied: werkzeug>=1.0.1 in c:\\users\\orion\\anaconda3\\envs\\naviagation\\lib\\site-packages (from tensorboard>=1.15->mlagents) (2.0.3)\n",
      "Requirement already satisfied: absl-py>=0.4 in c:\\users\\orion\\anaconda3\\envs\\naviagation\\lib\\site-packages (from tensorboard>=1.15->mlagents) (1.2.0)\n",
      "Collecting grpcio>=1.11.0\n",
      "  Downloading grpcio-1.48.2-cp36-cp36m-win_amd64.whl (3.6 MB)\n",
      "Collecting google-auth-oauthlib<0.5,>=0.4.1\n",
      "  Downloading google_auth_oauthlib-0.4.6-py2.py3-none-any.whl (18 kB)\n",
      "Requirement already satisfied: setuptools>=41.0.0 in c:\\users\\orion\\anaconda3\\envs\\naviagation\\lib\\site-packages (from tensorboard>=1.15->mlagents) (58.0.4)\n",
      "Collecting tensorboard-data-server<0.7.0,>=0.6.0\n",
      "  Using cached tensorboard_data_server-0.6.1-py3-none-any.whl (2.4 kB)\n",
      "Requirement already satisfied: wheel>=0.26 in c:\\users\\orion\\anaconda3\\envs\\naviagation\\lib\\site-packages (from tensorboard>=1.15->mlagents) (0.37.1)\n",
      "Collecting tensorboard-plugin-wit>=1.6.0\n",
      "  Downloading tensorboard_plugin_wit-1.8.1-py3-none-any.whl (781 kB)\n",
      "Requirement already satisfied: markdown>=2.6.8 in c:\\users\\orion\\anaconda3\\envs\\naviagation\\lib\\site-packages (from tensorboard>=1.15->mlagents) (3.3.7)\n",
      "Collecting google-auth<3,>=1.6.3\n"
     ]
    },
    {
     "name": "stderr",
     "output_type": "stream",
     "text": [
      "ERROR: pip's dependency resolver does not currently take into account all the packages that are installed. This behaviour is the source of the following dependency conflicts.\n",
      "unityagents 0.4.0 requires grpcio==1.11.0, but you have grpcio 1.48.2 which is incompatible.\n",
      "unityagents 0.4.0 requires protobuf==3.5.2, but you have protobuf 3.19.6 which is incompatible.\n",
      "tensorflow 1.7.1 requires tensorboard<1.8.0,>=1.7.0, but you have tensorboard 2.10.1 which is incompatible.\n"
     ]
    },
    {
     "name": "stdout",
     "output_type": "stream",
     "text": [
      "  Downloading google_auth-2.12.0-py2.py3-none-any.whl (169 kB)\n",
      "Collecting cachetools<6.0,>=2.0.0\n",
      "  Downloading cachetools-4.2.4-py3-none-any.whl (10 kB)\n",
      "Collecting pyasn1-modules>=0.2.1\n",
      "  Using cached pyasn1_modules-0.2.8-py2.py3-none-any.whl (155 kB)\n",
      "Collecting rsa<5,>=3.1.4\n",
      "  Downloading rsa-4.9-py3-none-any.whl (34 kB)\n",
      "Collecting requests-oauthlib>=0.7.0\n",
      "  Downloading requests_oauthlib-1.3.1-py2.py3-none-any.whl (23 kB)\n",
      "Requirement already satisfied: zipp>=0.5 in c:\\users\\orion\\anaconda3\\envs\\naviagation\\lib\\site-packages (from importlib-metadata->mlagents) (3.6.0)\n",
      "Requirement already satisfied: typing-extensions>=3.6.4 in c:\\users\\orion\\anaconda3\\envs\\naviagation\\lib\\site-packages (from importlib-metadata->mlagents) (4.1.1)\n",
      "Collecting pyasn1<0.5.0,>=0.4.6\n",
      "  Using cached pyasn1-0.4.8-py2.py3-none-any.whl (77 kB)\n",
      "Collecting idna<4,>=2.5\n",
      "  Downloading idna-3.4-py3-none-any.whl (61 kB)\n",
      "Collecting urllib3<1.27,>=1.21.1\n",
      "  Downloading urllib3-1.26.12-py2.py3-none-any.whl (140 kB)\n",
      "Requirement already satisfied: certifi>=2017.4.17 in c:\\users\\orion\\anaconda3\\envs\\naviagation\\lib\\site-packages (from requests<3,>=2.21.0->tensorboard>=1.15->mlagents) (2021.5.30)\n",
      "Collecting charset-normalizer~=2.0.0\n",
      "  Downloading charset_normalizer-2.0.12-py3-none-any.whl (39 kB)\n",
      "Collecting oauthlib>=3.0.0\n",
      "  Downloading oauthlib-3.2.1-py3-none-any.whl (151 kB)\n",
      "Requirement already satisfied: dataclasses in c:\\users\\orion\\anaconda3\\envs\\naviagation\\lib\\site-packages (from werkzeug>=1.0.1->tensorboard>=1.15->mlagents) (0.8)\n",
      "Installing collected packages: urllib3, pyasn1, idna, charset-normalizer, rsa, requests, pyasn1-modules, oauthlib, cachetools, requests-oauthlib, google-auth, tensorboard-plugin-wit, tensorboard-data-server, protobuf, grpcio, google-auth-oauthlib, cloudpickle, cached-property, tensorboard, pypiwin32, mlagents-envs, h5py, cattrs, mlagents\n",
      "  Attempting uninstall: protobuf\n",
      "    Found existing installation: protobuf 3.5.2\n",
      "    Uninstalling protobuf-3.5.2:\n",
      "      Successfully uninstalled protobuf-3.5.2\n",
      "  Attempting uninstall: grpcio\n",
      "    Found existing installation: grpcio 1.11.0\n",
      "    Uninstalling grpcio-1.11.0:\n",
      "      Successfully uninstalled grpcio-1.11.0\n",
      "  Attempting uninstall: tensorboard\n",
      "    Found existing installation: tensorboard 1.7.0\n",
      "    Uninstalling tensorboard-1.7.0:\n",
      "      Successfully uninstalled tensorboard-1.7.0\n",
      "Successfully installed cached-property-1.5.2 cachetools-4.2.4 cattrs-1.0.0 charset-normalizer-2.0.12 cloudpickle-2.2.0 google-auth-2.12.0 google-auth-oauthlib-0.4.6 grpcio-1.48.2 h5py-3.1.0 idna-3.4 mlagents-0.28.0 mlagents-envs-0.28.0 oauthlib-3.2.1 protobuf-3.19.6 pyasn1-0.4.8 pyasn1-modules-0.2.8 pypiwin32-223 requests-2.27.1 requests-oauthlib-1.3.1 rsa-4.9 tensorboard-2.10.1 tensorboard-data-server-0.6.1 tensorboard-plugin-wit-1.8.1 urllib3-1.26.12\n"
     ]
    }
   ],
   "source": [
    "!pip install mlagents"
   ]
  },
  {
   "cell_type": "code",
   "execution_count": 6,
   "metadata": {},
   "outputs": [
    {
     "name": "stdout",
     "output_type": "stream",
     "text": [
      "Collecting gym\n",
      "  Downloading gym-0.26.1.tar.gz (719 kB)\n",
      "  Installing build dependencies: started\n",
      "  Installing build dependencies: finished with status 'done'\n",
      "  Getting requirements to build wheel: started\n",
      "  Getting requirements to build wheel: finished with status 'done'\n",
      "    Preparing wheel metadata: started\n",
      "    Preparing wheel metadata: finished with status 'done'\n",
      "Requirement already satisfied: dataclasses==0.8 in c:\\users\\orion\\anaconda3\\envs\\naviagation\\lib\\site-packages (from gym) (0.8)\n",
      "Requirement already satisfied: numpy>=1.18.0 in c:\\users\\orion\\anaconda3\\envs\\naviagation\\lib\\site-packages (from gym) (1.19.5)\n",
      "Requirement already satisfied: importlib-metadata>=4.8.0 in c:\\users\\orion\\anaconda3\\envs\\naviagation\\lib\\site-packages (from gym) (4.8.3)\n",
      "Requirement already satisfied: cloudpickle>=1.2.0 in c:\\users\\orion\\anaconda3\\envs\\naviagation\\lib\\site-packages (from gym) (2.2.0)\n",
      "Collecting gym-notices>=0.0.4\n",
      "  Downloading gym_notices-0.0.8-py3-none-any.whl (3.0 kB)\n",
      "Requirement already satisfied: typing-extensions>=3.6.4 in c:\\users\\orion\\anaconda3\\envs\\naviagation\\lib\\site-packages (from importlib-metadata>=4.8.0->gym) (4.1.1)\n",
      "Requirement already satisfied: zipp>=0.5 in c:\\users\\orion\\anaconda3\\envs\\naviagation\\lib\\site-packages (from importlib-metadata>=4.8.0->gym) (3.6.0)\n",
      "Building wheels for collected packages: gym\n",
      "  Building wheel for gym (PEP 517): started\n",
      "  Building wheel for gym (PEP 517): finished with status 'done'\n",
      "  Created wheel for gym: filename=gym-0.26.1-py3-none-any.whl size=826213 sha256=fe8ee65b523f60035c2ea0d11fcb6529b157d268cddcf62132b7269113e39c90\n",
      "  Stored in directory: c:\\users\\orion\\appdata\\local\\pip\\cache\\wheels\\8c\\fb\\73\\64cc86cdab61756739641bba4b12162535d7d258fabdf852b4\n",
      "Successfully built gym\n",
      "Installing collected packages: gym-notices, gym\n",
      "Successfully installed gym-0.26.1 gym-notices-0.0.8\n"
     ]
    }
   ],
   "source": [
    "!pip install gym"
   ]
  },
  {
   "cell_type": "code",
   "execution_count": 7,
   "metadata": {},
   "outputs": [
    {
     "name": "stdout",
     "output_type": "stream",
     "text": [
      "Requirement already satisfied: Pillow in c:\\users\\orion\\anaconda3\\envs\\naviagation\\lib\\site-packages (8.4.0)\n"
     ]
    }
   ],
   "source": [
    "!pip install Pillow"
   ]
  },
  {
   "cell_type": "code",
   "execution_count": 8,
   "metadata": {},
   "outputs": [
    {
     "name": "stdout",
     "output_type": "stream",
     "text": [
      "Requirement already satisfied: h5py in c:\\users\\orion\\anaconda3\\envs\\naviagation\\lib\\site-packages (3.1.0)\n",
      "Requirement already satisfied: numpy>=1.12 in c:\\users\\orion\\anaconda3\\envs\\naviagation\\lib\\site-packages (from h5py) (1.19.5)\n",
      "Requirement already satisfied: cached-property in c:\\users\\orion\\anaconda3\\envs\\naviagation\\lib\\site-packages (from h5py) (1.5.2)\n"
     ]
    }
   ],
   "source": [
    "!pip install h5py"
   ]
  },
  {
   "cell_type": "code",
   "execution_count": 9,
   "metadata": {},
   "outputs": [
    {
     "name": "stdout",
     "output_type": "stream",
     "text": [
      "Collecting package metadata (current_repodata.json): ...working... done\n",
      "Solving environment: ...working... failed with initial frozen solve. Retrying with flexible solve.\n",
      "Solving environment: ...working... failed with repodata from current_repodata.json, will retry with next repodata source.\n",
      "Collecting package metadata (repodata.json): ...working... done\n",
      "Solving environment: ...working... done\n",
      "\n",
      "## Package Plan ##\n",
      "\n",
      "  environment location: C:\\Users\\orion\\anaconda3\\envs\\naviagation\n",
      "\n",
      "  added / updated specs:\n",
      "    - pytorch\n",
      "    - torchvision\n",
      "\n",
      "\n",
      "The following packages will be downloaded:\n",
      "\n",
      "    package                    |            build\n",
      "    ---------------------------|-----------------\n",
      "    cudatoolkit-11.3.1         |       h59b6b97_2       545.3 MB\n",
      "    dataclasses-0.8            |     pyh4f3eec9_6          22 KB\n",
      "    intel-openmp-2022.1.0      |    h59b6b97_3788         2.5 MB\n",
      "    jpeg-9e                    |       h2bbff1b_0         292 KB\n",
      "    lerc-3.0                   |       hd77b12b_0         120 KB\n",
      "    libdeflate-1.8             |       h2bbff1b_5          46 KB\n",
      "    libtiff-4.4.0              |       h8a3f274_0         773 KB\n",
      "    libuv-1.40.0               |       he774522_0         255 KB\n",
      "    lz4-c-1.9.3                |       h2bbff1b_1         132 KB\n",
      "    mkl-service-2.3.0          |   py36h196d8e1_0          45 KB\n",
      "    mkl_fft-1.3.0              |   py36h46781fe_0         131 KB\n",
      "    mkl_random-1.1.1           |   py36h47e9c7a_0         235 KB\n",
      "    numpy-1.19.2               |   py36hadc3359_0          22 KB\n",
      "    numpy-base-1.19.2          |   py36ha3acd2a_0         3.8 MB\n",
      "    olefile-0.46               |           py36_0          49 KB\n",
      "    pillow-8.3.1               |   py36h4fa10fc_0         676 KB\n",
      "    pytorch-1.10.2             |py3.6_cuda11.3_cudnn8_0        1.45 GB  pytorch\n",
      "    pytorch-mutex-1.0          |             cuda           3 KB  pytorch\n",
      "\n",
      "Note: you may need to restart the kernel to use updated packages.\n",
      "    six-1.16.0                 |     pyhd3eb1b0_1          18 KB\n",
      "    tk-8.6.12                  |       h2bbff1b_0         3.1 MB\n",
      "    torchvision-0.11.3         |       py36_cu113         8.9 MB  pytorch\n",
      "    typing_extensions-4.1.1    |     pyh06a4308_0          28 KB\n"
     ]
    },
    {
     "name": "stderr",
     "output_type": "stream",
     "text": [
      "\n",
      "\n",
      "==> WARNING: A newer version of conda exists. <==\n",
      "  current version: 4.11.0\n",
      "  latest version: 22.9.0\n",
      "\n",
      "Please update conda by running\n",
      "\n",
      "    $ conda update -n base -c defaults conda\n",
      "\n",
      "\n"
     ]
    },
    {
     "name": "stdout",
     "output_type": "stream",
     "text": [
      "    xz-5.2.6                   |       h8cc25b3_0         240 KB\n",
      "    zlib-1.2.12                |       h8cc25b3_3         112 KB\n",
      "    zstd-1.5.2                 |       h19a0ad4_0         509 KB\n",
      "    ------------------------------------------------------------\n",
      "                                           Total:        2.00 GB\n",
      "\n",
      "The following NEW packages will be INSTALLED:\n",
      "\n",
      "  blas               pkgs/main/win-64::blas-1.0-mkl\n",
      "  cudatoolkit        pkgs/main/win-64::cudatoolkit-11.3.1-h59b6b97_2\n",
      "  dataclasses        pkgs/main/noarch::dataclasses-0.8-pyh4f3eec9_6\n",
      "  freetype           pkgs/main/win-64::freetype-2.10.4-hd328e21_0\n",
      "  intel-openmp       pkgs/main/win-64::intel-openmp-2022.1.0-h59b6b97_3788\n",
      "  jpeg               pkgs/main/win-64::jpeg-9e-h2bbff1b_0\n",
      "  lerc               pkgs/main/win-64::lerc-3.0-hd77b12b_0\n",
      "  libdeflate         pkgs/main/win-64::libdeflate-1.8-h2bbff1b_5\n",
      "  libpng             pkgs/main/win-64::libpng-1.6.37-h2a8f88b_0\n",
      "  libtiff            pkgs/main/win-64::libtiff-4.4.0-h8a3f274_0\n",
      "  libuv              pkgs/main/win-64::libuv-1.40.0-he774522_0\n",
      "  lz4-c              pkgs/main/win-64::lz4-c-1.9.3-h2bbff1b_1\n",
      "  mkl                pkgs/main/win-64::mkl-2020.2-256\n",
      "  mkl-service        pkgs/main/win-64::mkl-service-2.3.0-py36h196d8e1_0\n",
      "  mkl_fft            pkgs/main/win-64::mkl_fft-1.3.0-py36h46781fe_0\n",
      "  mkl_random         pkgs/main/win-64::mkl_random-1.1.1-py36h47e9c7a_0\n",
      "  numpy              pkgs/main/win-64::numpy-1.19.2-py36hadc3359_0\n",
      "  numpy-base         pkgs/main/win-64::numpy-base-1.19.2-py36ha3acd2a_0\n",
      "  olefile            pkgs/main/win-64::olefile-0.46-py36_0\n",
      "  pillow             pkgs/main/win-64::pillow-8.3.1-py36h4fa10fc_0\n",
      "  pytorch            pytorch/win-64::pytorch-1.10.2-py3.6_cuda11.3_cudnn8_0\n",
      "  pytorch-mutex      pytorch/noarch::pytorch-mutex-1.0-cuda\n",
      "  six                pkgs/main/noarch::six-1.16.0-pyhd3eb1b0_1\n",
      "  tk                 pkgs/main/win-64::tk-8.6.12-h2bbff1b_0\n",
      "  torchvision        pytorch/win-64::torchvision-0.11.3-py36_cu113\n",
      "  typing_extensions  pkgs/main/noarch::typing_extensions-4.1.1-pyh06a4308_0\n",
      "  xz                 pkgs/main/win-64::xz-5.2.6-h8cc25b3_0\n",
      "  zlib               pkgs/main/win-64::zlib-1.2.12-h8cc25b3_3\n",
      "  zstd               pkgs/main/win-64::zstd-1.5.2-h19a0ad4_0\n",
      "\n",
      "\n",
      "\n",
      "Downloading and Extracting Packages\n",
      "\n",
      "pytorch-1.10.2       | 1.45 GB   |            |   0% \n",
      "pytorch-1.10.2       | 1.45 GB   |            |   0% \n",
      "pytorch-1.10.2       | 1.45 GB   |            |   0% \n",
      "pytorch-1.10.2       | 1.45 GB   |            |   0% \n",
      "pytorch-1.10.2       | 1.45 GB   |            |   0% \n",
      "pytorch-1.10.2       | 1.45 GB   |            |   0% \n",
      "pytorch-1.10.2       | 1.45 GB   |            |   0% \n",
      "pytorch-1.10.2       | 1.45 GB   |            |   0% \n",
      "pytorch-1.10.2       | 1.45 GB   |            |   0% \n",
      "pytorch-1.10.2       | 1.45 GB   |            |   0% \n",
      "pytorch-1.10.2       | 1.45 GB   |            |   0% \n",
      "pytorch-1.10.2       | 1.45 GB   |            |   0% \n",
      "pytorch-1.10.2       | 1.45 GB   |            |   1% \n",
      "pytorch-1.10.2       | 1.45 GB   |            |   1% \n",
      "pytorch-1.10.2       | 1.45 GB   |            |   1% \n",
      "pytorch-1.10.2       | 1.45 GB   |            |   1% \n",
      "pytorch-1.10.2       | 1.45 GB   |            |   1% \n",
      "pytorch-1.10.2       | 1.45 GB   |            |   1% \n",
      "pytorch-1.10.2       | 1.45 GB   |            |   1% \n",
      "pytorch-1.10.2       | 1.45 GB   |            |   1% \n",
      "pytorch-1.10.2       | 1.45 GB   |            |   1% \n",
      "pytorch-1.10.2       | 1.45 GB   |            |   1% \n",
      "pytorch-1.10.2       | 1.45 GB   |            |   1% \n",
      "pytorch-1.10.2       | 1.45 GB   | 1          |   1% \n",
      "pytorch-1.10.2       | 1.45 GB   | 1          |   1% \n",
      "pytorch-1.10.2       | 1.45 GB   | 1          |   1% \n",
      "pytorch-1.10.2       | 1.45 GB   | 1          |   1% \n",
      "pytorch-1.10.2       | 1.45 GB   | 1          |   1% \n",
      "pytorch-1.10.2       | 1.45 GB   | 1          |   1% \n",
      "pytorch-1.10.2       | 1.45 GB   | 1          |   1% \n",
      "pytorch-1.10.2       | 1.45 GB   | 1          |   1% \n",
      "pytorch-1.10.2       | 1.45 GB   | 1          |   1% \n",
      "pytorch-1.10.2       | 1.45 GB   | 1          |   1% \n",
      "pytorch-1.10.2       | 1.45 GB   | 1          |   1% \n",
      "pytorch-1.10.2       | 1.45 GB   | 1          |   2% \n",
      "pytorch-1.10.2       | 1.45 GB   | 1          |   2% \n",
      "pytorch-1.10.2       | 1.45 GB   | 1          |   2% \n",
      "pytorch-1.10.2       | 1.45 GB   | 1          |   2% \n",
      "pytorch-1.10.2       | 1.45 GB   | 1          |   2% \n",
      "pytorch-1.10.2       | 1.45 GB   | 1          |   2% \n",
      "pytorch-1.10.2       | 1.45 GB   | 1          |   2% \n",
      "pytorch-1.10.2       | 1.45 GB   | 1          |   2% \n",
      "pytorch-1.10.2       | 1.45 GB   | 1          |   2% \n",
      "pytorch-1.10.2       | 1.45 GB   | 1          |   2% \n",
      "pytorch-1.10.2       | 1.45 GB   | 1          |   2% \n",
      "pytorch-1.10.2       | 1.45 GB   | 1          |   2% \n",
      "pytorch-1.10.2       | 1.45 GB   | 2          |   2% \n",
      "pytorch-1.10.2       | 1.45 GB   | 2          |   2% \n",
      "pytorch-1.10.2       | 1.45 GB   | 2          |   2% \n",
      "pytorch-1.10.2       | 1.45 GB   | 2          |   2% \n",
      "pytorch-1.10.2       | 1.45 GB   | 2          |   2% \n",
      "pytorch-1.10.2       | 1.45 GB   | 2          |   2% \n",
      "pytorch-1.10.2       | 1.45 GB   | 2          |   2% \n",
      "pytorch-1.10.2       | 1.45 GB   | 2          |   2% \n",
      "pytorch-1.10.2       | 1.45 GB   | 2          |   2% \n",
      "pytorch-1.10.2       | 1.45 GB   | 2          |   2% \n",
      "pytorch-1.10.2       | 1.45 GB   | 2          |   2% \n",
      "pytorch-1.10.2       | 1.45 GB   | 2          |   3% \n",
      "pytorch-1.10.2       | 1.45 GB   | 2          |   3% \n",
      "pytorch-1.10.2       | 1.45 GB   | 2          |   3% \n",
      "pytorch-1.10.2       | 1.45 GB   | 2          |   3% \n",
      "pytorch-1.10.2       | 1.45 GB   | 2          |   3% \n",
      "pytorch-1.10.2       | 1.45 GB   | 2          |   3% \n",
      "pytorch-1.10.2       | 1.45 GB   | 2          |   3% \n",
      "pytorch-1.10.2       | 1.45 GB   | 2          |   3% \n",
      "pytorch-1.10.2       | 1.45 GB   | 2          |   3% \n",
      "pytorch-1.10.2       | 1.45 GB   | 2          |   3% \n",
      "pytorch-1.10.2       | 1.45 GB   | 2          |   3% \n",
      "pytorch-1.10.2       | 1.45 GB   | 2          |   3% \n",
      "pytorch-1.10.2       | 1.45 GB   | 3          |   3% \n",
      "pytorch-1.10.2       | 1.45 GB   | 3          |   3% \n",
      "pytorch-1.10.2       | 1.45 GB   | 3          |   3% \n",
      "pytorch-1.10.2       | 1.45 GB   | 3          |   3% \n",
      "pytorch-1.10.2       | 1.45 GB   | 3          |   3% \n"
     ]
    }
   ],
   "source": [
    "%conda install -c pytorch pytorch torchvision"
   ]
  },
  {
   "cell_type": "markdown",
   "metadata": {},
   "source": [
    "The environment is already saved in the Workspace and can be accessed at the file path provided below.  Please run the next code cell without making any changes."
   ]
  },
  {
   "cell_type": "code",
   "execution_count": 1,
   "metadata": {
    "scrolled": true
   },
   "outputs": [
    {
     "name": "stderr",
     "output_type": "stream",
     "text": [
      "INFO:unityagents:\n",
      "'Academy' started successfully!\n",
      "Unity Academy name: Academy\n",
      "        Number of Brains: 1\n",
      "        Number of External Brains : 1\n",
      "        Lesson number : 0\n",
      "        Reset Parameters :\n",
      "\t\t\n",
      "Unity brain name: BananaBrain\n",
      "        Number of Visual Observations (per agent): 0\n",
      "        Vector Observation space type: continuous\n",
      "        Vector Observation space size (per agent): 37\n",
      "        Number of stacked Vector Observation: 1\n",
      "        Vector Action space type: discrete\n",
      "        Vector Action space size (per agent): 4\n",
      "        Vector Action descriptions: , , , \n"
     ]
    }
   ],
   "source": [
    "from unityagents import UnityEnvironment\n",
    "import numpy as np\n",
    "\n",
    "# please do not modify the line below\n",
    "env = UnityEnvironment(file_name=\"./Banana_Windows_x86_64/Banana.exe\")"
   ]
  },
  {
   "cell_type": "markdown",
   "metadata": {},
   "source": [
    "Environments contain **_brains_** which are responsible for deciding the actions of their associated agents. Here we check for the first brain available, and set it as the default brain we will be controlling from Python."
   ]
  },
  {
   "cell_type": "code",
   "execution_count": 2,
   "metadata": {},
   "outputs": [],
   "source": [
    "# get the default brain\n",
    "brain_name = env.brain_names[0]\n",
    "brain = env.brains[brain_name]"
   ]
  },
  {
   "cell_type": "markdown",
   "metadata": {},
   "source": [
    "### 2. Examine the State and Action Spaces\n",
    "\n",
    "Run the code cell below to print some information about the environment."
   ]
  },
  {
   "cell_type": "code",
   "execution_count": 14,
   "metadata": {},
   "outputs": [
    {
     "name": "stdout",
     "output_type": "stream",
     "text": [
      "Number of agents: 1\n",
      "Number of actions: 4\n",
      "States look like: [1.         0.         0.         0.         0.84408134 0.\n",
      " 0.         1.         0.         0.0748472  0.         1.\n",
      " 0.         0.         0.25755    1.         0.         0.\n",
      " 0.         0.74177343 0.         1.         0.         0.\n",
      " 0.25854847 0.         0.         1.         0.         0.09355672\n",
      " 0.         1.         0.         0.         0.31969345 0.\n",
      " 0.        ]\n",
      "States have length: 37\n"
     ]
    }
   ],
   "source": [
    "# reset the environment\n",
    "env_info = env.reset(train_mode=True)[brain_name]\n",
    "\n",
    "# number of agents in the environment\n",
    "print('Number of agents:', len(env_info.agents))\n",
    "\n",
    "# number of actions\n",
    "action_size = brain.vector_action_space_size\n",
    "print('Number of actions:', action_size)\n",
    "\n",
    "# examine the state space \n",
    "state = env_info.vector_observations[0]\n",
    "print('States look like:', state)\n",
    "state_size = len(state)\n",
    "print('States have length:', state_size)"
   ]
  },
  {
   "cell_type": "markdown",
   "metadata": {},
   "source": [
    "### 3. Take Random Actions in the Environment\n",
    "\n",
    "In the next code cell, you will learn how to use the Python API to control the agent and receive feedback from the environment.\n",
    "\n",
    "Note that **in this coding environment, you will not be able to watch the agent while it is training**, and you should set `train_mode=True` to restart the environment."
   ]
  },
  {
   "cell_type": "code",
   "execution_count": 15,
   "metadata": {},
   "outputs": [
    {
     "name": "stdout",
     "output_type": "stream",
     "text": [
      "Score: 0.0\n"
     ]
    }
   ],
   "source": [
    "env_info = env.reset(train_mode=True)[brain_name] # reset the environment\n",
    "state = env_info.vector_observations[0]            # get the current state\n",
    "score = 0                                          # initialize the score\n",
    "while True:\n",
    "    action = np.random.randint(action_size)        # select an action\n",
    "    env_info = env.step(action)[brain_name]        # send the action to the environment\n",
    "    next_state = env_info.vector_observations[0]   # get the next state\n",
    "    reward = env_info.rewards[0]                   # get the reward\n",
    "    done = env_info.local_done[0]                  # see if episode has finished\n",
    "    score += reward                                # update the score\n",
    "    state = next_state                             # roll over the state to next time step\n",
    "    if done:                                       # exit loop if episode finished\n",
    "        break\n",
    "    \n",
    "print(\"Score: {}\".format(score))"
   ]
  },
  {
   "cell_type": "code",
   "execution_count": 6,
   "metadata": {},
   "outputs": [],
   "source": [
    "env.close()"
   ]
  },
  {
   "cell_type": "markdown",
   "metadata": {},
   "source": [
    "### 4. It's Your Turn!\n",
    "\n",
    "Now it's your turn to train your own agent to solve the environment!  A few **important notes**:\n",
    "- When training the environment, set `train_mode=True`, so that the line for resetting the environment looks like the following:\n",
    "```python\n",
    "env_info = env.reset(train_mode=True)[brain_name]\n",
    "```\n",
    "- To structure your work, you're welcome to work directly in this Jupyter notebook, or you might like to start over with a new file!  You can see the list of files in the workspace by clicking on **_Jupyter_** in the top left corner of the notebook.\n",
    "- In this coding environment, you will not be able to watch the agent while it is training.  However, **_after training the agent_**, you can download the saved model weights to watch the agent on your own machine! "
   ]
  },
  {
   "cell_type": "code",
   "execution_count": 3,
   "metadata": {},
   "outputs": [],
   "source": [
    "from dueling_dqn_agent import Agent\n",
    "from collections import deque\n",
    "import torch\n",
    "agent = Agent(state_size=37, action_size=4, seed=0)"
   ]
  },
  {
   "cell_type": "code",
   "execution_count": 21,
   "metadata": {},
   "outputs": [],
   "source": [
    "def dqn(n_episodes=2000, max_t=1000, eps_start=1.0, eps_end=0.01, eps_decay=0.995):\n",
    "    \"\"\"Deep Q-Learning.\n",
    "    \n",
    "    Params\n",
    "    ======\n",
    "        n_episodes (int): maximum number of training episodes\n",
    "        max_t (int): maximum number of timesteps per episode\n",
    "        eps_start (float): starting value of epsilon, for epsilon-greedy action selection\n",
    "        eps_end (float): minimum value of epsilon\n",
    "        eps_decay (float): multiplicative factor (per episode) for decreasing epsilon\n",
    "    \"\"\"\n",
    "    scores = []                        # list containing scores from each episode\n",
    "    scores_window = deque(maxlen=100)  # last 100 scores\n",
    "    eps = eps_start                    # initialize epsilon\n",
    "    for i_episode in range(1, n_episodes+1):\n",
    "        env_info = env.reset(train_mode=True)[brain_name] # reset the environment\n",
    "        state = env_info.vector_observations[0] \n",
    "        score = 0\n",
    "        for t in range(max_t):\n",
    "            action = agent.act(state, eps)\n",
    "            action = action.astype(np.int32)\n",
    "            \n",
    "            env_info = env.step(action)[brain_name]        # send the action to the environment\n",
    "            next_state = env_info.vector_observations[0]   # get the next state\n",
    "            reward = env_info.rewards[0]                   # get the reward\n",
    "            done = env_info.local_done[0]  \n",
    "            \n",
    "            agent.step(state, action, reward, next_state, done)\n",
    "            state = next_state\n",
    "            score += reward\n",
    "            if done:\n",
    "                break \n",
    "        scores_window.append(score)       # save most recent score\n",
    "        scores.append(score)              # save most recent score\n",
    "        eps = max(eps_end, eps_decay*eps) # decrease epsilon\n",
    "        print('\\rEpisode {}\\tAverage Score: {:.2f}'.format(i_episode, np.mean(scores_window)), end=\"\")\n",
    "        if i_episode % 100 == 0:\n",
    "            print('\\rEpisode {}\\tAverage Score: {:.2f}'.format(i_episode, np.mean(scores_window)))\n",
    "        if np.mean(scores_window)>=13.0:\n",
    "            print('\\nEnvironment solved in {:d} episodes!\\tAverage Score: {:.2f}'.format(i_episode-100, np.mean(scores_window)))\n",
    "            torch.save(agent.qnetwork_local.state_dict(), 'checkpoint.pth')\n",
    "            break\n",
    "    return scores"
   ]
  },
  {
   "cell_type": "code",
   "execution_count": 6,
   "metadata": {},
   "outputs": [
    {
     "name": "stdout",
     "output_type": "stream",
     "text": [
      "Episode 100\tAverage Score: 0.18\n",
      "Episode 200\tAverage Score: 3.75\n",
      "Episode 300\tAverage Score: 7.81\n",
      "Episode 400\tAverage Score: 10.10\n",
      "Episode 500\tAverage Score: 12.69\n",
      "Episode 510\tAverage Score: 13.02\n",
      "Environment solved in 410 episodes!\tAverage Score: 13.02\n"
     ]
    },
    {
     "ename": "NameError",
     "evalue": "name 'torch' is not defined",
     "output_type": "error",
     "traceback": [
      "\u001b[0;31m---------------------------------------------------------------------------\u001b[0m",
      "\u001b[0;31mNameError\u001b[0m                                 Traceback (most recent call last)",
      "\u001b[0;32m<ipython-input-6-f011ae17e95c>\u001b[0m in \u001b[0;36m<module>\u001b[0;34m()\u001b[0m\n\u001b[1;32m     42\u001b[0m     \u001b[0;32mreturn\u001b[0m \u001b[0mscores\u001b[0m\u001b[0;34m\u001b[0m\u001b[0m\n\u001b[1;32m     43\u001b[0m \u001b[0;34m\u001b[0m\u001b[0m\n\u001b[0;32m---> 44\u001b[0;31m \u001b[0mscores\u001b[0m \u001b[0;34m=\u001b[0m \u001b[0mdqn\u001b[0m\u001b[0;34m(\u001b[0m\u001b[0;34m)\u001b[0m\u001b[0;34m\u001b[0m\u001b[0m\n\u001b[0m",
      "\u001b[0;32m<ipython-input-6-f011ae17e95c>\u001b[0m in \u001b[0;36mdqn\u001b[0;34m(n_episodes, max_t, eps_start, eps_end, eps_decay)\u001b[0m\n\u001b[1;32m     38\u001b[0m         \u001b[0;32mif\u001b[0m \u001b[0mnp\u001b[0m\u001b[0;34m.\u001b[0m\u001b[0mmean\u001b[0m\u001b[0;34m(\u001b[0m\u001b[0mscores_window\u001b[0m\u001b[0;34m)\u001b[0m\u001b[0;34m>=\u001b[0m\u001b[0;36m13.0\u001b[0m\u001b[0;34m:\u001b[0m\u001b[0;34m\u001b[0m\u001b[0m\n\u001b[1;32m     39\u001b[0m             \u001b[0mprint\u001b[0m\u001b[0;34m(\u001b[0m\u001b[0;34m'\\nEnvironment solved in {:d} episodes!\\tAverage Score: {:.2f}'\u001b[0m\u001b[0;34m.\u001b[0m\u001b[0mformat\u001b[0m\u001b[0;34m(\u001b[0m\u001b[0mi_episode\u001b[0m\u001b[0;34m-\u001b[0m\u001b[0;36m100\u001b[0m\u001b[0;34m,\u001b[0m \u001b[0mnp\u001b[0m\u001b[0;34m.\u001b[0m\u001b[0mmean\u001b[0m\u001b[0;34m(\u001b[0m\u001b[0mscores_window\u001b[0m\u001b[0;34m)\u001b[0m\u001b[0;34m)\u001b[0m\u001b[0;34m)\u001b[0m\u001b[0;34m\u001b[0m\u001b[0m\n\u001b[0;32m---> 40\u001b[0;31m             \u001b[0mtorch\u001b[0m\u001b[0;34m.\u001b[0m\u001b[0msave\u001b[0m\u001b[0;34m(\u001b[0m\u001b[0magent\u001b[0m\u001b[0;34m.\u001b[0m\u001b[0mqnetwork_local\u001b[0m\u001b[0;34m.\u001b[0m\u001b[0mstate_dict\u001b[0m\u001b[0;34m(\u001b[0m\u001b[0;34m)\u001b[0m\u001b[0;34m,\u001b[0m \u001b[0;34m'checkpoint.pth'\u001b[0m\u001b[0;34m)\u001b[0m\u001b[0;34m\u001b[0m\u001b[0m\n\u001b[0m\u001b[1;32m     41\u001b[0m             \u001b[0;32mbreak\u001b[0m\u001b[0;34m\u001b[0m\u001b[0m\n\u001b[1;32m     42\u001b[0m     \u001b[0;32mreturn\u001b[0m \u001b[0mscores\u001b[0m\u001b[0;34m\u001b[0m\u001b[0m\n",
      "\u001b[0;31mNameError\u001b[0m: name 'torch' is not defined"
     ]
    }
   ],
   "source": [
    "\n",
    "\n",
    "scores = dqn()"
   ]
  },
  {
   "cell_type": "code",
   "execution_count": 8,
   "metadata": {},
   "outputs": [
    {
     "name": "stdout",
     "output_type": "stream",
     "text": [
      "Episode 100\tAverage Score: 0.48\n",
      "Episode 200\tAverage Score: 5.67\n",
      "Episode 300\tAverage Score: 9.22\n",
      "Episode 400\tAverage Score: 12.95\n",
      "Episode 401\tAverage Score: 13.04\n",
      "Environment solved in 301 episodes!\tAverage Score: 13.04\n"
     ]
    }
   ],
   "source": [
    "scores = dqn(n_episodes=2000, max_t=1000, eps_start=1.0, eps_end=0.01, eps_decay=0.99)"
   ]
  },
  {
   "cell_type": "code",
   "execution_count": 9,
   "metadata": {},
   "outputs": [
    {
     "name": "stdout",
     "output_type": "stream",
     "text": [
      "Episode 100\tAverage Score: 0.48\n",
      "Episode 200\tAverage Score: 0.93\n",
      "Episode 300\tAverage Score: 1.87\n",
      "Episode 400\tAverage Score: 2.78\n",
      "Episode 500\tAverage Score: 3.42\n",
      "Episode 600\tAverage Score: 4.97\n",
      "Episode 700\tAverage Score: 5.56\n",
      "Episode 800\tAverage Score: 6.38\n",
      "Episode 900\tAverage Score: 7.40\n",
      "Episode 1000\tAverage Score: 7.51\n",
      "Episode 1100\tAverage Score: 8.32\n",
      "Episode 1200\tAverage Score: 8.48\n",
      "Episode 1300\tAverage Score: 9.12\n",
      "Episode 1400\tAverage Score: 10.29\n",
      "Episode 1500\tAverage Score: 11.04\n",
      "Episode 1600\tAverage Score: 11.17\n",
      "Episode 1700\tAverage Score: 11.67\n",
      "Episode 1800\tAverage Score: 12.15\n",
      "Episode 1900\tAverage Score: 12.17\n",
      "Episode 2000\tAverage Score: 11.82\n"
     ]
    }
   ],
   "source": [
    "scores = dqn(n_episodes=2000, max_t=1000, eps_start=1.0, eps_end=0.01, eps_decay=0.999)"
   ]
  },
  {
   "cell_type": "code",
   "execution_count": 26,
   "metadata": {},
   "outputs": [
    {
     "name": "stdout",
     "output_type": "stream",
     "text": [
      "Episode 100\tAverage Score: 0.99\n",
      "Episode 200\tAverage Score: 5.25\n",
      "Episode 300\tAverage Score: 8.51\n",
      "Episode 400\tAverage Score: 12.04\n",
      "Episode 426\tAverage Score: 13.04\n",
      "Environment solved in 326 episodes!\tAverage Score: 13.04\n"
     ]
    }
   ],
   "source": [
    "agent = Agent(state_size=37, action_size=4, seed=0)\n",
    "scores = dqn(n_episodes=2000, max_t=1000, eps_start=1.0, eps_end=0.01, eps_decay=0.95)"
   ]
  },
  {
   "cell_type": "code",
   "execution_count": 27,
   "metadata": {},
   "outputs": [
    {
     "data": {
      "text/plain": [
       "True"
      ]
     },
     "execution_count": 27,
     "metadata": {},
     "output_type": "execute_result"
    }
   ],
   "source": [
    " torch.cuda.is_available()"
   ]
  },
  {
   "cell_type": "code",
   "execution_count": 12,
   "metadata": {},
   "outputs": [
    {
     "name": "stdout",
     "output_type": "stream",
     "text": [
      "Episode 100\tAverage Score: 0.56\n",
      "Episode 200\tAverage Score: 4.52\n",
      "Episode 300\tAverage Score: 7.76\n",
      "Episode 400\tAverage Score: 11.02\n",
      "Episode 437\tAverage Score: 13.01\n",
      "Environment solved in 337 episodes!\tAverage Score: 13.01\n"
     ]
    }
   ],
   "source": [
    "agent = Agent(state_size=37, action_size=4, seed=0)\n",
    "scores = dqn(n_episodes=2000, max_t=1000, eps_start=1.0, eps_end=0.005, eps_decay=0.95)"
   ]
  },
  {
   "cell_type": "code",
   "execution_count": 13,
   "metadata": {},
   "outputs": [
    {
     "name": "stdout",
     "output_type": "stream",
     "text": [
      "Episode 100\tAverage Score: 1.58\n",
      "Episode 200\tAverage Score: 8.88\n",
      "Episode 300\tAverage Score: 11.96\n",
      "Episode 326\tAverage Score: 13.00\n",
      "Environment solved in 226 episodes!\tAverage Score: 13.00\n"
     ]
    }
   ],
   "source": [
    "agent = Agent(state_size=37, action_size=4, seed=0)\n",
    "scores = dqn(n_episodes=2000, max_t=1000, eps_start=1.0, eps_end=0.01, eps_decay=0.95)"
   ]
  },
  {
   "cell_type": "code",
   "execution_count": 4,
   "metadata": {},
   "outputs": [
    {
     "ename": "NameError",
     "evalue": "name 'dqn' is not defined",
     "output_type": "error",
     "traceback": [
      "\u001b[0;31m---------------------------------------------------------------------------\u001b[0m",
      "\u001b[0;31mNameError\u001b[0m                                 Traceback (most recent call last)",
      "\u001b[0;32m<ipython-input-4-d3ffc33ca6be>\u001b[0m in \u001b[0;36m<module>\u001b[0;34m()\u001b[0m\n\u001b[1;32m      3\u001b[0m \u001b[0;32mimport\u001b[0m \u001b[0mtorch\u001b[0m\u001b[0;34m\u001b[0m\u001b[0m\n\u001b[1;32m      4\u001b[0m \u001b[0magent\u001b[0m \u001b[0;34m=\u001b[0m \u001b[0mAgent\u001b[0m\u001b[0;34m(\u001b[0m\u001b[0mstate_size\u001b[0m\u001b[0;34m=\u001b[0m\u001b[0;36m37\u001b[0m\u001b[0;34m,\u001b[0m \u001b[0maction_size\u001b[0m\u001b[0;34m=\u001b[0m\u001b[0;36m4\u001b[0m\u001b[0;34m,\u001b[0m \u001b[0mseed\u001b[0m\u001b[0;34m=\u001b[0m\u001b[0;36m0\u001b[0m\u001b[0;34m)\u001b[0m\u001b[0;34m\u001b[0m\u001b[0m\n\u001b[0;32m----> 5\u001b[0;31m \u001b[0mscores\u001b[0m \u001b[0;34m=\u001b[0m \u001b[0mdqn\u001b[0m\u001b[0;34m(\u001b[0m\u001b[0mn_episodes\u001b[0m\u001b[0;34m=\u001b[0m\u001b[0;36m2000\u001b[0m\u001b[0;34m,\u001b[0m \u001b[0mmax_t\u001b[0m\u001b[0;34m=\u001b[0m\u001b[0;36m1000\u001b[0m\u001b[0;34m,\u001b[0m \u001b[0meps_start\u001b[0m\u001b[0;34m=\u001b[0m\u001b[0;36m1.0\u001b[0m\u001b[0;34m,\u001b[0m \u001b[0meps_end\u001b[0m\u001b[0;34m=\u001b[0m\u001b[0;36m0.01\u001b[0m\u001b[0;34m,\u001b[0m \u001b[0meps_decay\u001b[0m\u001b[0;34m=\u001b[0m\u001b[0;36m0.95\u001b[0m\u001b[0;34m)\u001b[0m\u001b[0;34m\u001b[0m\u001b[0m\n\u001b[0m",
      "\u001b[0;31mNameError\u001b[0m: name 'dqn' is not defined"
     ]
    }
   ],
   "source": [
    "from double_dqn_agent import Agent\n",
    "from collections import deque\n",
    "import torch\n",
    "agent = Agent(state_size=37, action_size=4, seed=0)\n",
    "scores = dqn(n_episodes=2000, max_t=1000, eps_start=1.0, eps_end=0.01, eps_decay=0.95)"
   ]
  },
  {
   "cell_type": "code",
   "execution_count": 6,
   "metadata": {},
   "outputs": [
    {
     "name": "stdout",
     "output_type": "stream",
     "text": [
      "Episode 100\tAverage Score: 0.07\n",
      "Episode 200\tAverage Score: 2.36\n",
      "Episode 300\tAverage Score: 4.58\n",
      "Episode 400\tAverage Score: 9.52\n",
      "Episode 494\tAverage Score: 13.03\n",
      "Environment solved in 394 episodes!\tAverage Score: 13.03\n"
     ]
    }
   ],
   "source": [
    "agent = Agent(state_size=37, action_size=4, seed=0)\n",
    "scores = dqn(n_episodes=2000, max_t=1000, eps_start=1.0, eps_end=0.01, eps_decay=0.95)"
   ]
  },
  {
   "cell_type": "code",
   "execution_count": 7,
   "metadata": {},
   "outputs": [
    {
     "name": "stdout",
     "output_type": "stream",
     "text": [
      "Episode 100\tAverage Score: 1.05\n",
      "Episode 200\tAverage Score: 5.55\n",
      "Episode 300\tAverage Score: 9.91\n",
      "Episode 400\tAverage Score: 12.06\n",
      "Episode 438\tAverage Score: 13.00\n",
      "Environment solved in 338 episodes!\tAverage Score: 13.00\n"
     ]
    }
   ],
   "source": [
    "agent = Agent(state_size=37, action_size=4, seed=0)\n",
    "scores = dqn(n_episodes=2000, max_t=1000, eps_start=1.0, eps_end=0.01, eps_decay=0.99)"
   ]
  },
  {
   "cell_type": "code",
   "execution_count": 8,
   "metadata": {},
   "outputs": [
    {
     "name": "stdout",
     "output_type": "stream",
     "text": [
      "Episode 100\tAverage Score: 0.76\n",
      "Episode 200\tAverage Score: 6.99\n",
      "Episode 300\tAverage Score: 10.57\n",
      "Episode 377\tAverage Score: 13.08\n",
      "Environment solved in 277 episodes!\tAverage Score: 13.08\n"
     ]
    }
   ],
   "source": [
    "agent = Agent(state_size=37, action_size=4, seed=0)\n",
    "scores = dqn(n_episodes=2000, max_t=1000, eps_start=1.0, eps_end=0.01, eps_decay=0.98)"
   ]
  },
  {
   "cell_type": "code",
   "execution_count": 9,
   "metadata": {},
   "outputs": [
    {
     "name": "stdout",
     "output_type": "stream",
     "text": [
      "Episode 100\tAverage Score: 0.10\n",
      "Episode 200\tAverage Score: 5.91\n",
      "Episode 300\tAverage Score: 10.51\n",
      "Episode 398\tAverage Score: 13.03\n",
      "Environment solved in 298 episodes!\tAverage Score: 13.03\n"
     ]
    }
   ],
   "source": [
    "agent = Agent(state_size=37, action_size=4, seed=0)\n",
    "scores = dqn(n_episodes=2000, max_t=1000, eps_start=1.0, eps_end=0.01, eps_decay=0.98)"
   ]
  },
  {
   "cell_type": "code",
   "execution_count": 10,
   "metadata": {},
   "outputs": [
    {
     "name": "stdout",
     "output_type": "stream",
     "text": [
      "Episode 100\tAverage Score: 0.91\n",
      "Episode 200\tAverage Score: 5.30\n",
      "Episode 300\tAverage Score: 9.67\n",
      "Episode 400\tAverage Score: 10.95\n",
      "Episode 452\tAverage Score: 13.02\n",
      "Environment solved in 352 episodes!\tAverage Score: 13.02\n"
     ]
    }
   ],
   "source": [
    "agent = Agent(state_size=37, action_size=4, seed=0)\n",
    "scores = dqn(n_episodes=2000, max_t=1000, eps_start=1.0, eps_end=0.01, eps_decay=0.97)"
   ]
  },
  {
   "cell_type": "code",
   "execution_count": 11,
   "metadata": {},
   "outputs": [
    {
     "name": "stdout",
     "output_type": "stream",
     "text": [
      "Episode 100\tAverage Score: 0.44\n",
      "Episode 200\tAverage Score: 5.69\n",
      "Episode 300\tAverage Score: 8.70\n",
      "Episode 400\tAverage Score: 11.37\n",
      "Episode 493\tAverage Score: 13.03\n",
      "Environment solved in 393 episodes!\tAverage Score: 13.03\n"
     ]
    }
   ],
   "source": [
    "agent = Agent(state_size=37, action_size=4, seed=0)\n",
    "scores = dqn(n_episodes=2000, max_t=1000, eps_start=1.0, eps_end=0.01, eps_decay=0.985)"
   ]
  },
  {
   "cell_type": "code",
   "execution_count": 12,
   "metadata": {},
   "outputs": [
    {
     "name": "stdout",
     "output_type": "stream",
     "text": [
      "Episode 100\tAverage Score: 0.22\n",
      "Episode 200\tAverage Score: 5.26\n",
      "Episode 300\tAverage Score: 9.22\n",
      "Episode 400\tAverage Score: 12.79\n",
      "Episode 426\tAverage Score: 13.03\n",
      "Environment solved in 326 episodes!\tAverage Score: 13.03\n"
     ]
    }
   ],
   "source": [
    "agent = Agent(state_size=37, action_size=4, seed=0)\n",
    "scores = dqn(n_episodes=2000, max_t=1000, eps_start=1.0, eps_end=0.01, eps_decay=0.985)"
   ]
  },
  {
   "cell_type": "code",
   "execution_count": 13,
   "metadata": {},
   "outputs": [
    {
     "name": "stdout",
     "output_type": "stream",
     "text": [
      "Episode 100\tAverage Score: 1.39\n",
      "Episode 200\tAverage Score: 5.20\n",
      "Episode 300\tAverage Score: 10.08\n",
      "Episode 374\tAverage Score: 13.04\n",
      "Environment solved in 274 episodes!\tAverage Score: 13.04\n"
     ]
    }
   ],
   "source": [
    "agent = Agent(state_size=37, action_size=4, seed=0)\n",
    "scores = dqn(n_episodes=2000, max_t=1000, eps_start=1.0, eps_end=0.01, eps_decay=0.975)"
   ]
  },
  {
   "cell_type": "code",
   "execution_count": 14,
   "metadata": {},
   "outputs": [
    {
     "name": "stdout",
     "output_type": "stream",
     "text": [
      "Episode 100\tAverage Score: 1.15\n",
      "Episode 200\tAverage Score: 5.20\n",
      "Episode 300\tAverage Score: 9.49\n",
      "Episode 400\tAverage Score: 12.88\n",
      "Episode 402\tAverage Score: 13.00\n",
      "Environment solved in 302 episodes!\tAverage Score: 13.00\n"
     ]
    }
   ],
   "source": [
    "agent = Agent(state_size=37, action_size=4, seed=0)\n",
    "scores = dqn(n_episodes=2000, max_t=1000, eps_start=1.0, eps_end=0.01, eps_decay=0.975)"
   ]
  },
  {
   "cell_type": "code",
   "execution_count": 7,
   "metadata": {},
   "outputs": [
    {
     "name": "stdout",
     "output_type": "stream",
     "text": [
      "Episode 100\tAverage Score: 3.67\n",
      "Episode 200\tAverage Score: 7.89\n",
      "Episode 300\tAverage Score: 8.67\n",
      "Episode 400\tAverage Score: 10.51\n",
      "Episode 500\tAverage Score: 11.96\n",
      "Episode 600\tAverage Score: 12.12\n",
      "Episode 619\tAverage Score: 13.00\n",
      "Environment solved in 519 episodes!\tAverage Score: 13.00\n"
     ]
    }
   ],
   "source": [
    "from double_dqn_agent2 import Agent\n",
    "from collections import deque\n",
    "import torch\n",
    "agent = Agent(state_size=37, action_size=4, seed=0)\n",
    "scores = dqn(n_episodes=2000, max_t=1000, eps_start=1.0, eps_end=0.01, eps_decay=0.975)"
   ]
  },
  {
   "cell_type": "code",
   "execution_count": 8,
   "metadata": {},
   "outputs": [
    {
     "name": "stdout",
     "output_type": "stream",
     "text": [
      "Episode 100\tAverage Score: 4.07\n",
      "Episode 200\tAverage Score: 9.26\n",
      "Episode 300\tAverage Score: 9.862\n",
      "Episode 400\tAverage Score: 12.32\n",
      "Episode 418\tAverage Score: 13.06\n",
      "Environment solved in 318 episodes!\tAverage Score: 13.06\n"
     ]
    }
   ],
   "source": [
    "agent = Agent(state_size=37, action_size=4, seed=0)\n",
    "scores = dqn(n_episodes=2000, max_t=1000, eps_start=1.0, eps_end=0.01, eps_decay=0.96)"
   ]
  },
  {
   "cell_type": "code",
   "execution_count": 9,
   "metadata": {},
   "outputs": [
    {
     "name": "stdout",
     "output_type": "stream",
     "text": [
      "Episode 100\tAverage Score: 1.49\n",
      "Episode 200\tAverage Score: 6.22\n",
      "Episode 300\tAverage Score: 6.66\n",
      "Episode 400\tAverage Score: 8.08\n",
      "Episode 500\tAverage Score: 10.56\n",
      "Episode 596\tAverage Score: 13.01\n",
      "Environment solved in 496 episodes!\tAverage Score: 13.01\n"
     ]
    }
   ],
   "source": [
    "agent = Agent(state_size=37, action_size=4, seed=0)\n",
    "scores = dqn(n_episodes=2000, max_t=1000, eps_start=1.0, eps_end=0.01, eps_decay=0.99)"
   ]
  },
  {
   "cell_type": "code",
   "execution_count": 10,
   "metadata": {},
   "outputs": [
    {
     "name": "stdout",
     "output_type": "stream",
     "text": [
      "Episode 100\tAverage Score: 5.01\n",
      "Episode 200\tAverage Score: 7.31\n",
      "Episode 300\tAverage Score: 9.68\n",
      "Episode 400\tAverage Score: 11.54\n",
      "Episode 500\tAverage Score: 12.58\n",
      "Episode 513\tAverage Score: 13.01\n",
      "Environment solved in 413 episodes!\tAverage Score: 13.01\n"
     ]
    }
   ],
   "source": [
    "agent = Agent(state_size=37, action_size=4, seed=0)\n",
    "scores = dqn(n_episodes=2000, max_t=1000, eps_start=1.0, eps_end=0.01, eps_decay=0.95)"
   ]
  },
  {
   "cell_type": "code",
   "execution_count": 11,
   "metadata": {},
   "outputs": [
    {
     "name": "stdout",
     "output_type": "stream",
     "text": [
      "Episode 100\tAverage Score: 3.93\n",
      "Episode 200\tAverage Score: 6.75\n",
      "Episode 300\tAverage Score: 9.26\n",
      "Episode 400\tAverage Score: 11.43\n",
      "Episode 500\tAverage Score: 12.73\n",
      "Episode 519\tAverage Score: 13.03\n",
      "Environment solved in 419 episodes!\tAverage Score: 13.03\n"
     ]
    }
   ],
   "source": [
    "agent = Agent(state_size=37, action_size=4, seed=0)\n",
    "scores = dqn(n_episodes=2000, max_t=1000, eps_start=1.0, eps_end=0.008, eps_decay=0.96)"
   ]
  },
  {
   "cell_type": "code",
   "execution_count": null,
   "metadata": {},
   "outputs": [],
   "source": [
    "# load the weights from file\n",
    "#agent.qnetwork_local.load_state_dict(torch.load('checkpoint.pth'))\n",
    "agent.qnetwork_local.load_state_dict(torch.load('checkpoint.pth', map_location=lambda storage, loc: storage))\n",
    "for i in range(3):\n",
    "    state = env.reset()\n",
    "    img = plt.imshow(env.render(mode='rgb_array'))\n",
    "    for j in range(200):\n",
    "        action = agent.act(state)\n",
    "        img.set_data(env.render(mode='rgb_array')) \n",
    "        plt.axis('off')\n",
    "        display.display(plt.gcf())\n",
    "        display.clear_output(wait=True)\n",
    "        state, reward, done, _ = env.step(action)\n",
    "        if done:\n",
    "            break \n",
    "            \n",
    "env.close()"
   ]
  },
  {
   "cell_type": "code",
   "execution_count": null,
   "metadata": {},
   "outputs": [],
   "source": [
    "env_info = env.reset(train_mode=True)[brain_name] # reset the environment\n",
    "state = env_info.vector_observations[0]            # get the current state\n",
    "score = 0                                          # initialize the score\n",
    "while True:\n",
    "    action = np.random.randint(action_size)        # select an action\n",
    "    env_info = env.step(action)[brain_name]        # send the action to the environment\n",
    "    next_state = env_info.vector_observations[0]   # get the next state\n",
    "    reward = env_info.rewards[0]                   # get the reward\n",
    "    done = env_info.local_done[0]                  # see if episode has finished\n",
    "    score += reward                                # update the score\n",
    "    state = next_state                             # roll over the state to next time step\n",
    "    if done:                                       # exit loop if episode finished\n",
    "        break\n",
    "    \n",
    "print(\"Score: {}\".format(score))"
   ]
  },
  {
   "cell_type": "code",
   "execution_count": null,
   "metadata": {},
   "outputs": [],
   "source": [
    "def dqn(n_episodes=2000, max_t=1000, eps_start=1.0, eps_end=0.01, eps_decay=0.995):\n",
    "    \"\"\"Deep Q-Learning.\n",
    "    \n",
    "    Params\n",
    "    ======\n",
    "        n_episodes (int): maximum number of training episodes\n",
    "        max_t (int): maximum number of timesteps per episode\n",
    "        eps_start (float): starting value of epsilon, for epsilon-greedy action selection\n",
    "        eps_end (float): minimum value of epsilon\n",
    "        eps_decay (float): multiplicative factor (per episode) for decreasing epsilon\n",
    "    \"\"\"\n",
    "    scores = []                        # list containing scores from each episode\n",
    "    scores_window = deque(maxlen=100)  # last 100 scores\n",
    "    eps = eps_start                    # initialize epsilon\n",
    "    for i_episode in range(1, n_episodes+1):\n",
    "        env_info = env.reset(train_mode=True)[brain_name] # reset the environment\n",
    "        state = env_info.vector_observations[0] \n",
    "        score = 0\n",
    "        for t in range(max_t):\n",
    "            action = agent.act(state, eps)\n",
    "            action = action.astype(np.int32)\n",
    "            \n",
    "            env_info = env.step(action)[brain_name]        # send the action to the environment\n",
    "            next_state = env_info.vector_observations[0]   # get the next state\n",
    "            reward = env_info.rewards[0]                   # get the reward\n",
    "            done = env_info.local_done[0]  \n",
    "            \n",
    "            agent.step(state, action, reward, next_state, done)\n",
    "            state = next_state\n",
    "            score += reward\n",
    "            if done:\n",
    "                break \n",
    "        scores_window.append(score)       # save most recent score\n",
    "        scores.append(score)              # save most recent score\n",
    "        eps = max(eps_end, eps_decay*eps) # decrease epsilon\n",
    "        print('\\rEpisode {}\\tAverage Score: {:.2f}'.format(i_episode, np.mean(scores_window)), end=\"\")\n",
    "        if i_episode % 100 == 0:\n",
    "            print('\\rEpisode {}\\tAverage Score: {:.2f}'.format(i_episode, np.mean(scores_window)))\n",
    "        if np.mean(scores_window)>=13.0:\n",
    "            print('\\nEnvironment solved in {:d} episodes!\\tAverage Score: {:.2f}'.format(i_episode-100, np.mean(scores_window)))\n",
    "            torch.save(agent.qnetwork_local.state_dict(), 'checkpoint.pth')\n",
    "            break\n",
    "    return scores"
   ]
  },
  {
   "cell_type": "code",
   "execution_count": 5,
   "metadata": {},
   "outputs": [
    {
     "name": "stdout",
     "output_type": "stream",
     "text": [
      "Score: 19.0\n"
     ]
    }
   ],
   "source": [
    "# load the weights from file\n",
    "#agent.qnetwork_local.load_state_dict(torch.load('checkpoint.pth'))\n",
    "agent.qnetwork_local.load_state_dict(torch.load('checkpoint.pth', map_location=lambda storage, loc: storage))\n",
    "env_info = env.reset(train_mode=True)[brain_name] # reset the environment\n",
    "state = env_info.vector_observations[0]            # get the current state\n",
    "score = 0     \n",
    "while True:\n",
    "    action = agent.act(state).astype(np.int32)\n",
    "    env_info = env.step(action)[brain_name]\n",
    "    next_state = env_info.vector_observations[0]   # get the next state\n",
    "    reward = env_info.rewards[0]                   # get the reward\n",
    "    done = env_info.local_done[0]                  # see if episode has finished\n",
    "    score += reward                                # update the score\n",
    "    state = next_state                             # roll over the state to next time step\n",
    "    if done:                                       # exit loop if episode finished\n",
    "        break\n",
    "    \n",
    "\n",
    "    \n",
    "print(\"Score: {}\".format(score))"
   ]
  },
  {
   "cell_type": "code",
   "execution_count": null,
   "metadata": {},
   "outputs": [],
   "source": []
  }
 ],
 "metadata": {
  "kernelspec": {
   "display_name": "Python 3",
   "language": "python",
   "name": "python3"
  },
  "language_info": {
   "codemirror_mode": {
    "name": "ipython",
    "version": 3
   },
   "file_extension": ".py",
   "mimetype": "text/x-python",
   "name": "python",
   "nbconvert_exporter": "python",
   "pygments_lexer": "ipython3",
   "version": "3.6.13"
  }
 },
 "nbformat": 4,
 "nbformat_minor": 2
}
